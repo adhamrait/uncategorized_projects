{
  "nbformat": 4,
  "nbformat_minor": 0,
  "metadata": {
    "colab": {
      "provenance": [],
      "authorship_tag": "ABX9TyNw41cjJS8S9b/h3qUT7Jc7",
      "include_colab_link": true
    },
    "kernelspec": {
      "name": "python3",
      "display_name": "Python 3"
    },
    "language_info": {
      "name": "python"
    }
  },
  "cells": [
    {
      "cell_type": "markdown",
      "metadata": {
        "id": "view-in-github",
        "colab_type": "text"
      },
      "source": [
        "<a href=\"https://colab.research.google.com/github/adhamrait/uncategorized_projects/blob/main/AM160_HW1_Problem2.ipynb\" target=\"_parent\"><img src=\"https://colab.research.google.com/assets/colab-badge.svg\" alt=\"Open In Colab\"/></a>"
      ]
    },
    {
      "cell_type": "code",
      "source": [
        "import h5py\n",
        "import numpy as np\n",
        "from scipy.integrate import solve_ivp\n",
        "import matplotlib.pyplot as plt\n",
        "# from derivative import dxdt"
      ],
      "metadata": {
        "id": "_WINnrRZ20nl"
      },
      "execution_count": null,
      "outputs": []
    },
    {
      "cell_type": "code",
      "source": [
        "def lorenz(_: float, u: np.ndarray, sigma: float, rho: float,\n",
        "           beta: float) -> np.ndarray:\n",
        "    \"\"\"Returns a list containing the three functions of the Lorenz equation.\n",
        "\n",
        "    The Lorenz equations have constant coefficients (that don't depend on t),\n",
        "    but we still receive t as the first parameter because that's how the\n",
        "    integrator works.\n",
        "    \"\"\"\n",
        "    x = u[0]\n",
        "    y = u[1]\n",
        "    z = u[2]\n",
        "    dx_dt = sigma * (y - x)\n",
        "    dy_dt = x * (rho - z) - y\n",
        "    dz_dt = x * y - beta * z\n",
        "\n",
        "    return np.hstack((dx_dt, dy_dt, dz_dt))"
      ],
      "metadata": {
        "id": "_ZnIPbml27nk"
      },
      "execution_count": null,
      "outputs": []
    },
    {
      "cell_type": "code",
      "source": [
        "def calculate_exact_derivatives(u: np.ndarray) -> np.ndarray:\n",
        "    \"\"\"Calculates the exact derivatives by using the Lorenz equations.\n",
        "\n",
        "    Since we have the equations in this scenario, we can calculate the\n",
        "    exact derivatives. This is easily done by simply plugging u into the\n",
        "    equations, and getting du/dt back. In a real-world scenario, we don't\n",
        "    have the equations -- that's what we're trying to discover with SINDy!\n",
        "    \"\"\"\n",
        "    n = u.shape[0]\n",
        "    uprime = np.zeros_like(u)\n",
        "    for i in range(n):\n",
        "        uprime[i, :] = lorenz(None, u[i, :], SIGMA, RHO, BETA)\n",
        "\n",
        "    return uprime"
      ],
      "metadata": {
        "id": "gkiv9FJr3AP6"
      },
      "execution_count": null,
      "outputs": []
    },
    {
      "cell_type": "code",
      "source": [
        "def create_library(u: np.ndarray, polynomial_order: int,\n",
        "                   use_trig: bool) -> np.ndarray:\n",
        "    \"\"\"Creates a matrix containing a library of candidate functions.\n",
        "\n",
        "    For example, if our u depends on x, y, and z, and we specify\n",
        "    polynomial_order=2 and use_trig=false, our terms would be:\n",
        "    1, x, y, z, x^2, xy, xz, y^2, yz, z^2.\n",
        "    \"\"\"\n",
        "    (m, n) = u.shape\n",
        "    theta = np.ones((m, 1))\n",
        "\n",
        "    # Polynomials of order 1.\n",
        "    theta = np.hstack((theta, u))\n",
        "\n",
        "    # Polynomials of order 2.\n",
        "    if polynomial_order >= 2:\n",
        "        for i in range(n):\n",
        "            for j in range(i, n):\n",
        "                theta = np.hstack((theta, u[:, i:i + 1] * u[:, j:j + 1]))\n",
        "\n",
        "    # Polynomials of order 3.\n",
        "    if polynomial_order >= 3:\n",
        "        for i in range(n):\n",
        "            for j in range(i, n):\n",
        "                for k in range(j, n):\n",
        "                    theta = np.hstack(\n",
        "                        (theta, u[:, i:i + 1] * u[:, j:j + 1] * u[:, k:k + 1]))\n",
        "\n",
        "    # Polynomials of order 4.\n",
        "    if polynomial_order >= 4:\n",
        "        for i in range(n):\n",
        "            for j in range(i, n):\n",
        "                for k in range(j, n):\n",
        "                    for l in range(k, n):\n",
        "                        theta = np.hstack(\n",
        "                            (theta, u[:, i:i + 1] * u[:, j:j + 1] *\n",
        "                             u[:, k:k + 1] * u[:, l:l + 1]))\n",
        "\n",
        "    # Polynomials of order 5.\n",
        "    if polynomial_order >= 5:\n",
        "        for i in range(n):\n",
        "            for j in range(i, n):\n",
        "                for k in range(j, n):\n",
        "                    for l in range(k, n):\n",
        "                        for m in range(l, n):\n",
        "                            theta = np.hstack(\n",
        "                                (theta, u[:, i:i + 1] * u[:, j:j + 1] *\n",
        "                                 u[:, k:k + 1] * u[:, l:l + 1] * u[:, m:m + 1]))\n",
        "\n",
        "    if use_trig:\n",
        "        for i in range(1, 11):\n",
        "            theta = np.hstack((theta, np.sin(i * u), np.cos(i * u)))\n",
        "\n",
        "    return theta"
      ],
      "metadata": {
        "id": "7-ODq2Oa3JCo"
      },
      "execution_count": null,
      "outputs": []
    },
    {
      "cell_type": "code",
      "source": [
        "def calculate_regression(theta: np.ndarray, uprime: np.ndarray,\n",
        "                         threshold: float, max_iterations: int) -> np.ndarray:\n",
        "    \"\"\"Finds a xi matrix that fits theta * xi = uprime, using the sequential\n",
        "    thresholded least-squares algorithm, which is a regression algorithm that\n",
        "    promotes sparsity.\n",
        "\n",
        "    The authors of the SINDy paper designed this algorithm as an alternative\n",
        "    to LASSO, because they found LASSO to be algorithmically unstable, and\n",
        "    computationally expensive for very large data sets.\n",
        "    \"\"\"\n",
        "    # Solve theta * xi = uprime in the least-squares sense.\n",
        "    xi = np.linalg.lstsq(theta, uprime, rcond=None)[0]\n",
        "    n = xi.shape[1]\n",
        "\n",
        "    # Add sparsity.\n",
        "    for _ in range(max_iterations):\n",
        "        small_indices = np.abs(xi) < threshold\n",
        "        xi[small_indices] = 0\n",
        "        for j in range(n):\n",
        "            big_indices = np.logical_not(small_indices[:, j])\n",
        "            xi[big_indices, j] = np.linalg.lstsq(theta[:, big_indices],\n",
        "                                                 uprime[:, j],\n",
        "                                                 rcond=None)[0]\n",
        "\n",
        "    return xi"
      ],
      "metadata": {
        "id": "vyyJn3MP3KZJ"
      },
      "execution_count": null,
      "outputs": []
    },
    {
      "cell_type": "code",
      "source": [
        "SIGMA = 10\n",
        "RHO = 28\n",
        "BETA = 8 / 3\n",
        "t0 = 0.001\n",
        "dt = 0.001\n",
        "tmax = 100\n",
        "n = int(tmax / dt)\n",
        "\n",
        "u0 = np.array([-8, 8, 27])\n",
        "t = np.linspace(start=t0, stop=tmax, num=n)\n",
        "result = solve_ivp(fun=lorenz,\n",
        "                        t_span=(t0, tmax),\n",
        "                        y0=u0,\n",
        "                        t_eval=t,\n",
        "                        args=(SIGMA, RHO, BETA))\n",
        "u = result.y.T"
      ],
      "metadata": {
        "id": "Fnxr4ram8pUy"
      },
      "execution_count": null,
      "outputs": []
    },
    {
      "cell_type": "code",
      "source": [
        "### Starting main code #####\n",
        "# Constants used in the calculation of the Theta matrix of potential terms.\n",
        "POLYNOMIAL_ORDER = 2\n",
        "USE_TRIG = False\n",
        "\n",
        "# Constants used in the Sequential Thresholded Least-Squares algorithm.\n",
        "THRESHOLD = 0.025\n",
        "MAX_ITERATIONS = 10\n",
        "uprime = calculate_exact_derivatives(u)[1:]\n",
        "theta = create_library(u[1:],POLYNOMIAL_ORDER,USE_TRIG)\n",
        "xi_exact = calculate_regression(theta,uprime,THRESHOLD, MAX_ITERATIONS)\n",
        "xi_exact"
      ],
      "metadata": {
        "colab": {
          "base_uri": "https://localhost:8080/"
        },
        "id": "1YoPtxmG3ONd",
        "outputId": "255f29a7-712a-477d-fadb-a31cb09d8815"
      },
      "execution_count": null,
      "outputs": [
        {
          "output_type": "execute_result",
          "data": {
            "text/plain": [
              "array([[  0.        ,   0.        ,   0.        ],\n",
              "       [-10.        ,  28.        ,   0.        ],\n",
              "       [ 10.        ,  -1.        ,   0.        ],\n",
              "       [  0.        ,   0.        ,  -2.66666667],\n",
              "       [  0.        ,   0.        ,   0.        ],\n",
              "       [  0.        ,   0.        ,   1.        ],\n",
              "       [  0.        ,  -1.        ,   0.        ],\n",
              "       [  0.        ,   0.        ,   0.        ],\n",
              "       [  0.        ,   0.        ,   0.        ],\n",
              "       [  0.        ,   0.        ,   0.        ]])"
            ]
          },
          "metadata": {},
          "execution_count": 8
        }
      ]
    },
    {
      "cell_type": "markdown",
      "source": [
        "Adding gaussian noise to the derivatives"
      ],
      "metadata": {
        "id": "pOsNwFXAQAj5"
      }
    },
    {
      "cell_type": "code",
      "source": [
        "def absolute_error(a, b):\n",
        "  return np.linalg.norm(a-b, ord=2)"
      ],
      "metadata": {
        "id": "w_Mr9R_BQqgA"
      },
      "execution_count": null,
      "outputs": []
    },
    {
      "cell_type": "code",
      "source": [
        "def generate_error_data_iterations(max_iterations, variance):\n",
        "  uprime_error = uprime + variance**2 *np.random.normal(0, 1, uprime.shape)\n",
        "  errors = []\n",
        "  for iterations in range(0, 30):\n",
        "    xi = calculate_regression(theta,uprime_error,THRESHOLD, iterations)\n",
        "    errors.append(absolute_error(xi_exact, xi))\n",
        "  return errors"
      ],
      "metadata": {
        "id": "tBubeZTN_wFB"
      },
      "execution_count": null,
      "outputs": []
    },
    {
      "cell_type": "code",
      "source": [
        "max_iterations = 30\n",
        "errors_0 = generate_error_data_iterations(max_iterations, 0)\n",
        "errors_1 = generate_error_data_iterations(max_iterations, 0.1)\n",
        "errors_5 = generate_error_data_iterations(max_iterations, 0.5)\n",
        "errors_10 = generate_error_data_iterations(max_iterations, 1)\n",
        "iteration = range(0, max_iterations)"
      ],
      "metadata": {
        "id": "luImRPNkRnYm"
      },
      "execution_count": null,
      "outputs": []
    },
    {
      "cell_type": "code",
      "source": [
        "plt.plot(iteration, errors_0, label='variance=0')\n",
        "plt.plot(iteration, errors_1, label='variance=0.1')\n",
        "plt.plot(iteration, errors_5, label='variance=0.5')\n",
        "plt.plot(iteration, errors_10, label='variance=1')\n",
        "plt.title(\"Absolute error vs maximum iteration count\")\n",
        "plt.xlabel(\"max iteration count\")\n",
        "plt.ylabel(\"absolute error\")\n",
        "plt.yscale('log')\n",
        "plt.legend()"
      ],
      "metadata": {
        "colab": {
          "base_uri": "https://localhost:8080/",
          "height": 489
        },
        "id": "-8dqfoPqSuuq",
        "outputId": "afc1b64c-4d61-48af-c8ff-a2c64775d4aa"
      },
      "execution_count": null,
      "outputs": [
        {
          "output_type": "execute_result",
          "data": {
            "text/plain": [
              "<matplotlib.legend.Legend at 0x7b6ced16cfd0>"
            ]
          },
          "metadata": {},
          "execution_count": 50
        },
        {
          "output_type": "display_data",
          "data": {
            "text/plain": [
              "<Figure size 640x480 with 1 Axes>"
            ],
            "image/png": "[encoded data removed]"
          },
          "metadata": {}
        }
      ]
    },
    {
      "cell_type": "code",
      "source": [
        "def generate_error_data_order(max_order, variance):\n",
        "  errors = []\n",
        "  for order in range(1, max_order):\n",
        "    uprime_error = uprime + variance**2 *np.random.normal(0, 1, uprime.shape)\n",
        "    theta = create_library(u[1:],order,USE_TRIG)\n",
        "    xi_exact = calculate_regression(theta,uprime,THRESHOLD, 10)\n",
        "    xi = calculate_regression(theta,uprime_error,THRESHOLD, 10)\n",
        "    errors.append(absolute_error(xi_exact, xi))\n",
        "  return errors"
      ],
      "metadata": {
        "id": "MwEt4XyyUdEG"
      },
      "execution_count": null,
      "outputs": []
    },
    {
      "cell_type": "code",
      "source": [
        "max_order = 10\n",
        "errors_order_0 = generate_error_data_order(max_order, 0)\n",
        "errors_order_1 = generate_error_data_order(max_order, 0.1)\n",
        "errors_order_5 = generate_error_data_order(max_order, 0.5)\n",
        "errors_order_10 = generate_error_data_order(max_order, 1)\n",
        "orders = range(1, max_order)"
      ],
      "metadata": {
        "id": "zhXtd9-eWmZR"
      },
      "execution_count": null,
      "outputs": []
    },
    {
      "cell_type": "code",
      "source": [
        "plt.plot(orders, errors_order_0, label='variance=0')\n",
        "plt.plot(orders, errors_order_1, label='variance=0.1')\n",
        "plt.plot(orders, errors_order_5, label='variance=0.5')\n",
        "plt.plot(orders, errors_order_10, label='variance=1')\n",
        "plt.title(\"Absolute error vs polynomial order\")\n",
        "plt.xlabel(\"Polynomial order\")\n",
        "plt.ylabel(\"absolute error\")\n",
        "plt.yscale('log')\n",
        "plt.legend()"
      ],
      "metadata": {
        "colab": {
          "base_uri": "https://localhost:8080/",
          "height": 489
        },
        "id": "EVt-OVXPV5k8",
        "outputId": "d49e1b60-6ba3-46ca-bd4c-8dbfed28082f"
      },
      "execution_count": null,
      "outputs": [
        {
          "output_type": "execute_result",
          "data": {
            "text/plain": [
              "<matplotlib.legend.Legend at 0x7b6ced2c8fd0>"
            ]
          },
          "metadata": {},
          "execution_count": 47
        },
        {
          "output_type": "display_data",
          "data": {
            "text/plain": [
              "<Figure size 640x480 with 1 Axes>"
            ],
            "image/png": "[encoded data removed]"
          },
          "metadata": {}
        }
      ]
    },
    {
      "cell_type": "markdown",
      "source": [
        "Calculating derivatives"
      ],
      "metadata": {
        "id": "wvKns7GmXHh7"
      }
    },
    {
      "cell_type": "code",
      "source": [
        "### Starting main code #####\n",
        "# Constants used in the calculation of the Theta matrix of potential terms.\n",
        "POLYNOMIAL_ORDER = 2\n",
        "USE_TRIG = False\n",
        "\n",
        "# Constants used in the Sequential Thresholded Least-Squares algorithm.\n",
        "THRESHOLD = 0.025\n",
        "MAX_ITERATIONS = 10\n",
        "uprime_exact = calculate_exact_derivatives(u)\n",
        "theta = create_library(u,POLYNOMIAL_ORDER,USE_TRIG)\n",
        "xi_exact = calculate_regression(theta,uprime_exact,THRESHOLD, MAX_ITERATIONS)\n",
        "xi_exact"
      ],
      "metadata": {
        "colab": {
          "base_uri": "https://localhost:8080/"
        },
        "id": "S9_kUBetXJv_",
        "outputId": "8129ff6d-3aba-4a7b-df0d-21a43143b6cf"
      },
      "execution_count": null,
      "outputs": [
        {
          "output_type": "execute_result",
          "data": {
            "text/plain": [
              "array([[  0.        ,   0.        ,   0.        ],\n",
              "       [-10.        ,  28.        ,   0.        ],\n",
              "       [ 10.        ,  -1.        ,   0.        ],\n",
              "       [  0.        ,   0.        ,  -2.66666667],\n",
              "       [  0.        ,   0.        ,   0.        ],\n",
              "       [  0.        ,   0.        ,   1.        ],\n",
              "       [  0.        ,  -1.        ,   0.        ],\n",
              "       [  0.        ,   0.        ,   0.        ],\n",
              "       [  0.        ,   0.        ,   0.        ],\n",
              "       [  0.        ,   0.        ,   0.        ]])"
            ]
          },
          "metadata": {},
          "execution_count": 9
        }
      ]
    },
    {
      "cell_type": "code",
      "source": [
        "def finite_difference(u):\n",
        "  return u[1:], (u[1:] - u[:-1])/dt\n",
        "u_finite_difference, uprime_finite_difference = finite_difference(u)\n",
        "theta = create_library(u_finite_difference, POLYNOMIAL_ORDER, USE_TRIG)\n",
        "xi_finite_difference = calculate_regression(theta, uprime_finite_difference, THRESHOLD, MAX_ITERATIONS)\n",
        "xi_finite_difference"
      ],
      "metadata": {
        "colab": {
          "base_uri": "https://localhost:8080/"
        },
        "id": "FiF5nGLnXU7W",
        "outputId": "5d0abb1c-9f86-4293-ac41-178af62196d8"
      },
      "execution_count": null,
      "outputs": [
        {
          "output_type": "execute_result",
          "data": {
            "text/plain": [
              "array([[ 0.        ,  0.        , -1.01142995],\n",
              "       [-9.99010104, 27.57949495,  0.        ],\n",
              "       [10.00440278, -0.84383655,  0.        ],\n",
              "       [ 0.        ,  0.        , -2.62331796],\n",
              "       [ 0.        ,  0.        ,  0.        ],\n",
              "       [ 0.        ,  0.        ,  0.9990528 ],\n",
              "       [ 0.        , -0.9893376 ,  0.        ],\n",
              "       [ 0.        ,  0.        ,  0.        ],\n",
              "       [ 0.        ,  0.        ,  0.        ],\n",
              "       [ 0.        ,  0.        ,  0.        ]])"
            ]
          },
          "metadata": {},
          "execution_count": 20
        }
      ]
    },
    {
      "cell_type": "code",
      "source": [
        "from scipy.interpolate import CubicSpline"
      ],
      "metadata": {
        "id": "Or1CFqPOZGeX"
      },
      "execution_count": null,
      "outputs": []
    },
    {
      "cell_type": "code",
      "source": [
        "def spline(u):\n",
        "  cs_x = CubicSpline(t, u[:, 0])\n",
        "  cs_y = CubicSpline(t, u[:, 1])\n",
        "  cs_z = CubicSpline(t, u[:, 2])\n",
        "  dx_dt = cs_x.derivative()\n",
        "  dy_dt = cs_y.derivative()\n",
        "  dz_dt = cs_z.derivative()\n",
        "  x_derivative = dx_dt(t)\n",
        "  y_derivative = dy_dt(t)\n",
        "  z_derivative = dz_dt(t)\n",
        "  u_prime = np.vstack([x_derivative, y_derivative, z_derivative]).T\n",
        "  return u[1:], uprime\n",
        "\n",
        "u_spline, uprime_spline = spline(u)\n",
        "print(u_spline.shape, uprime_spline.shape)\n",
        "theta = create_library(u_spline, POLYNOMIAL_ORDER, USE_TRIG)\n",
        "xi_spline = calculate_regression(theta, uprime_spline, THRESHOLD, MAX_ITERATIONS)\n",
        "xi_spline"
      ],
      "metadata": {
        "colab": {
          "base_uri": "https://localhost:8080/"
        },
        "id": "IgWVftWVYpBD",
        "outputId": "93de9572-055e-4688-c2f2-88898265ac60"
      },
      "execution_count": null,
      "outputs": [
        {
          "output_type": "stream",
          "name": "stdout",
          "text": [
            "(99999, 3) (99999, 3)\n"
          ]
        },
        {
          "output_type": "execute_result",
          "data": {
            "text/plain": [
              "array([[  0.        ,   0.        ,   0.        ],\n",
              "       [-10.        ,  28.        ,   0.        ],\n",
              "       [ 10.        ,  -1.        ,   0.        ],\n",
              "       [  0.        ,   0.        ,  -2.66666667],\n",
              "       [  0.        ,   0.        ,   0.        ],\n",
              "       [  0.        ,   0.        ,   1.        ],\n",
              "       [  0.        ,  -1.        ,   0.        ],\n",
              "       [  0.        ,   0.        ,   0.        ],\n",
              "       [  0.        ,   0.        ,   0.        ],\n",
              "       [  0.        ,   0.        ,   0.        ]])"
            ]
          },
          "metadata": {},
          "execution_count": 21
        }
      ]
    }
  ]
}