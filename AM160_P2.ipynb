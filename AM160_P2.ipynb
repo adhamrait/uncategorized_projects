{
  "nbformat": 4,
  "nbformat_minor": 0,
  "metadata": {
    "colab": {
      "provenance": [],
      "gpuType": "T4",
      "authorship_tag": "ABX9TyMRR+XpyBuJvfYE76Rh0jkK",
      "include_colab_link": true
    },
    "kernelspec": {
      "name": "python3",
      "display_name": "Python 3"
    },
    "language_info": {
      "name": "python"
    },
    "accelerator": "GPU"
  },
  "cells": [
    {
      "cell_type": "markdown",
      "metadata": {
        "id": "view-in-github",
        "colab_type": "text"
      },
      "source": [
        "<a href=\"https://colab.research.google.com/github/adhamrait/uncategorized_projects/blob/main/AM160_P2.ipynb\" target=\"_parent\"><img src=\"https://colab.research.google.com/assets/colab-badge.svg\" alt=\"Open In Colab\"/></a>"
      ]
    },
    {
      "cell_type": "code",
      "execution_count": null,
      "metadata": {
        "colab": {
          "base_uri": "https://localhost:8080/"
        },
        "id": "lINPIEZtbxYq",
        "outputId": "e20132a2-f609-4dc0-8c7b-c4395f244782"
      },
      "outputs": [
        {
          "output_type": "stream",
          "name": "stdout",
          "text": [
            "Mounted at /content/drive\n"
          ]
        }
      ],
      "source": [
        "import numpy as np\n",
        "from ipywidgets import interact\n",
        "import torch\n",
        "from google.colab import drive\n",
        "from os import listdir\n",
        "from scipy.io import netcdf_file\n",
        "import matplotlib.pyplot as plt\n",
        "import torch.nn as nn\n",
        "import torch.optim as optim\n",
        "import torch.nn.functional as F\n",
        "from torch.utils.data import DataLoader, Dataset\n",
        "import matplotlib.animation as animation\n",
        "from matplotlib import rc\n",
        "import random\n",
        "rc('animation', html='jshtml')\n",
        "drive.mount('/content/drive')"
      ]
    },
    {
      "cell_type": "code",
      "source": [
        "device = torch.device(\"cuda\" if torch.cuda.is_available() else \"cpu\")\n",
        "print(f\"Using device: {device}\")"
      ],
      "metadata": {
        "colab": {
          "base_uri": "https://localhost:8080/"
        },
        "id": "fZZZNZTNjaco",
        "outputId": "76150e25-5a96-40bd-fd46-b68ed95b91da"
      },
      "execution_count": null,
      "outputs": [
        {
          "output_type": "stream",
          "name": "stdout",
          "text": [
            "Using device: cuda\n"
          ]
        }
      ]
    },
    {
      "cell_type": "markdown",
      "source": [
        "# Data loading/cleaning"
      ],
      "metadata": {
        "id": "w6BzSdggjLUJ"
      }
    },
    {
      "cell_type": "code",
      "source": [
        "raw_data = {}\n",
        "normalized_data = []\n",
        "data_directory = \"/content/drive/My Drive/AM160_Final_data\"\n",
        "for filename in listdir(data_directory):\n",
        "  year = int(filename.split('.')[0].split('z')[1])\n",
        "  print(f\"loading year {year}...\")\n",
        "  with netcdf_file(f'{data_directory}/{filename}', 'r') as f:\n",
        "    raw_data[year] = f.variables['z'][:].copy()\n",
        "  print(raw_data[year].shape)"
      ],
      "metadata": {
        "colab": {
          "base_uri": "https://localhost:8080/"
        },
        "id": "u4sjBuwyjrZC",
        "outputId": "2bece6d9-7f80-4571-924e-8fd72966f659"
      },
      "execution_count": null,
      "outputs": [
        {
          "output_type": "stream",
          "name": "stdout",
          "text": [
            "loading year 1979...\n",
            "(1460, 2, 91, 180)\n",
            "loading year 1980...\n",
            "(1464, 2, 91, 180)\n",
            "loading year 1981...\n",
            "(1460, 2, 91, 180)\n",
            "loading year 1983...\n",
            "(1460, 2, 91, 180)\n",
            "loading year 1985...\n",
            "(1460, 2, 91, 180)\n"
          ]
        }
      ]
    },
    {
      "cell_type": "code",
      "source": [
        "normalized_data = {}\n",
        "for year, data in raw_data.items():\n",
        "  mean = np.mean(data, axis=(0), keepdims=True)\n",
        "  std = np.std(data, axis=(0), keepdims=True)\n",
        "  normalized_data[year] = ((data - mean) / std).astype(float)"
      ],
      "metadata": {
        "id": "QHx_WQXOjKI4"
      },
      "execution_count": null,
      "outputs": []
    },
    {
      "cell_type": "code",
      "source": [
        "training_years = [1979, 1980, 1981, 1983]\n",
        "training_data = np.vstack([normalized_data[year] for year in training_years]).astype(float)\n",
        "print(training_data.dtype)"
      ],
      "metadata": {
        "colab": {
          "base_uri": "https://localhost:8080/"
        },
        "id": "5od-DRUJjuv7",
        "outputId": "04b96272-558f-4a2a-8948-b88961c5bddd"
      },
      "execution_count": null,
      "outputs": [
        {
          "output_type": "stream",
          "name": "stdout",
          "text": [
            "float64\n"
          ]
        }
      ]
    },
    {
      "cell_type": "markdown",
      "source": [
        "# Model"
      ],
      "metadata": {
        "id": "dusKz8T4kFMc"
      }
    },
    {
      "cell_type": "code",
      "source": [
        "class Decoder(nn.Module):\n",
        "  def __init__(self, l_input_dim):\n",
        "    super(Decoder, self).__init__()\n",
        "\n",
        "    self.conv1 = nn.Conv2d(in_channels=2*l_input_dim, out_channels=32, kernel_size=3, stride=2, padding=1)\n",
        "    self.conv2 = nn.Conv2d(in_channels=32, out_channels=64, kernel_size=3, stride=2, padding=1)\n",
        "    self.conv3 = nn.Conv2d(in_channels=64, out_channels=128, kernel_size=3, stride=2, padding=1)\n",
        "\n",
        "    # After convolution, the spatial dimensions will be (l, 128 * 12 * 23)\n",
        "    self.fc1 = nn.Linear(128 * 12 * 23+1, 1024)  # Flattened to (l, 128 * 12 * 23)\n",
        "    self.fc2 = nn.Linear(1024, 1024)  # Added 1 for the scalar input\n",
        "\n",
        "    self.fc_output = nn.Linear(1024, 2 * 91 * 180)\n",
        "\n",
        "  def forward(self, x_image, x_scalar):\n",
        "    x = F.relu(self.conv1(x_image))\n",
        "    x = F.relu(self.conv2(x))\n",
        "    x = F.relu(self.conv3(x))\n",
        "\n",
        "    x = x.view(x.size(0), -1)  # Shape: (l, 128 * 11 * 22)\n",
        "\n",
        "    x_scalar = x_scalar.view(x.size(0), -1)  # Make sure scalar is (l, 1)\n",
        "    x = torch.cat((x, x_scalar), dim=1)\n",
        "\n",
        "    x = F.relu(self.fc1(x))\n",
        "    x = F.relu(self.fc2(x))\n",
        "    x = self.fc_output(x)\n",
        "\n",
        "    x = x.view(x.size(0), 2, 91, 180)\n",
        "\n",
        "    return x"
      ],
      "metadata": {
        "id": "QjkHUODAkEjo"
      },
      "execution_count": null,
      "outputs": []
    },
    {
      "cell_type": "code",
      "source": [
        "class TimeSeriesDatasetMany(Dataset):\n",
        "    def __init__(self, data, l):\n",
        "        self.data = data\n",
        "        self.l = l\n",
        "\n",
        "    def __len__(self):\n",
        "        return len(self.data) - self.l\n",
        "\n",
        "    def __getitem__(self, idx):\n",
        "        x_t = self.data[idx:idx+self.l]  # X(t)\n",
        "        x_t_plus_1 = self.data[idx+self.l]  # X(t+1)\n",
        "        return x_t, x_t_plus_1, idx % 1464"
      ],
      "metadata": {
        "id": "oa1FyFY7lQeZ"
      },
      "execution_count": null,
      "outputs": []
    },
    {
      "cell_type": "code",
      "source": [
        "def rk4_step(old, L):\n",
        "  k1 = L(old)\n",
        "  k2 = L(k1/2 + old)\n",
        "  k3 = L(k2/2 + old)\n",
        "  k4 = L(k3 + old)\n",
        "  return old + 1/6*(k1 + 2*k2 + 2*k3 + k4)\n",
        "def euler_step(old, L):\n",
        "  return L(old) + old"
      ],
      "metadata": {
        "id": "woY5lKN1mEiz"
      },
      "execution_count": null,
      "outputs": []
    },
    {
      "cell_type": "markdown",
      "source": [
        "# Trainers"
      ],
      "metadata": {
        "id": "peqNpw8cn84I"
      }
    },
    {
      "cell_type": "code",
      "source": [
        "learning_rate = 1e-3\n",
        "batch_size = 16\n",
        "epochs = 20"
      ],
      "metadata": {
        "id": "stV8Zyqhkwfb"
      },
      "execution_count": null,
      "outputs": []
    },
    {
      "cell_type": "code",
      "source": [
        "def train_model(l):\n",
        "  time_series = TimeSeriesDatasetMany(training_data, l)\n",
        "  training_loader = DataLoader(time_series, batch_size=batch_size, shuffle=True)\n",
        "\n",
        "  model = Decoder(l).to(device)\n",
        "  optimizer = optim.Adam(model.parameters(), lr=learning_rate)\n",
        "  for epoch in range(epochs):\n",
        "    model.train()\n",
        "    train_loss = 0\n",
        "    # Loop through batches of data\n",
        "    for batch_idx, (previous_x, x, _) in enumerate(training_loader):\n",
        "      x = x.to(device).float()\n",
        "      previous_x = previous_x.squeeze(1).to(device).float()\n",
        "      r = torch.rand((len(x), 1)).to(device).float().reshape(-1, 1)\n",
        "      # print(x_0.shape)\n",
        "\n",
        "      optimizer.zero_grad()\n",
        "\n",
        "      # Forward pass\n",
        "      if l > 1:\n",
        "        out = model(previous_x.view(len(x), -1, 91, 180), r)\n",
        "        loss = F.mse_loss(out, x-previous_x[:,-1])\n",
        "      else:\n",
        "        out = model(previous_x.view(len(x), -1, 91, 180), r)\n",
        "        loss = F.mse_loss(out, x-previous_x)\n",
        "      loss.backward()\n",
        "\n",
        "      # Update weights\n",
        "      optimizer.step()\n",
        "\n",
        "      train_loss += loss.item()\n",
        "      # if batch_idx % 100 == 0:\n",
        "      #     print(f\"Epoch {epoch + 1}/{epochs}, Batch {batch_idx}/{len(training_loader)}, Loss: {loss.item()/len(data)}\")\n",
        "\n",
        "    print(f\"Epoch {epoch + 1}/{epochs}, Average Loss: {train_loss / len(training_loader.dataset)}\")\n",
        "  model.eval()\n",
        "  return model"
      ],
      "metadata": {
        "id": "4zFOE3x_kkkm"
      },
      "execution_count": null,
      "outputs": []
    },
    {
      "cell_type": "markdown",
      "source": [
        "# l=1"
      ],
      "metadata": {
        "id": "buUC2w3bkhSA"
      }
    },
    {
      "cell_type": "code",
      "source": [
        "model_1 = train_model(1)"
      ],
      "metadata": {
        "colab": {
          "base_uri": "https://localhost:8080/"
        },
        "id": "sSwjRJz1oMzz",
        "outputId": "248fb319-946c-40ae-ef90-2681dad33ac8"
      },
      "execution_count": null,
      "outputs": [
        {
          "output_type": "stream",
          "name": "stdout",
          "text": [
            "Epoch 1/20, Average Loss: 0.002883846008132913\n",
            "Epoch 2/20, Average Loss: 0.002331542875410534\n",
            "Epoch 3/20, Average Loss: 0.002117465268205274\n",
            "Epoch 4/20, Average Loss: 0.0019727402741107633\n",
            "Epoch 5/20, Average Loss: 0.0019067280318370609\n",
            "Epoch 6/20, Average Loss: 0.0018826671366758507\n",
            "Epoch 7/20, Average Loss: 0.0018378537882711714\n",
            "Epoch 8/20, Average Loss: 0.0017865690479672528\n",
            "Epoch 9/20, Average Loss: 0.0017314613191881103\n",
            "Epoch 10/20, Average Loss: 0.0016872853521418944\n",
            "Epoch 11/20, Average Loss: 0.0016469364278445644\n",
            "Epoch 12/20, Average Loss: 0.0016075589856821117\n",
            "Epoch 13/20, Average Loss: 0.001571253016680331\n",
            "Epoch 14/20, Average Loss: 0.001534540230421381\n",
            "Epoch 15/20, Average Loss: 0.0015090862864473188\n",
            "Epoch 16/20, Average Loss: 0.0014998158110054148\n",
            "Epoch 17/20, Average Loss: 0.0014612480182594047\n",
            "Epoch 18/20, Average Loss: 0.0014340453660847206\n",
            "Epoch 19/20, Average Loss: 0.0014118046491659812\n",
            "Epoch 20/20, Average Loss: 0.0013929745502771222\n"
          ]
        }
      ]
    },
    {
      "cell_type": "markdown",
      "source": [
        "## Evaluation"
      ],
      "metadata": {
        "id": "0WG7R7wLnk12"
      }
    },
    {
      "cell_type": "code",
      "source": [
        "eval_steps = 500\n",
        "sample_number = 10\n",
        "\n",
        "def ensemble_sample(l, step_function, steps, sample_number, model_ensemble):\n",
        "  model_ensemble_time_series = [torch.from_numpy(normalized_data[1985][i]).float().to(device).unsqueeze(0) for i in range(l)]\n",
        "  for t in range(steps):\n",
        "    def L(y):\n",
        "      ensemble = []\n",
        "      prev = torch.stack(model_ensemble_time_series[-l:]).view( -1, 91, 180).unsqueeze(0)\n",
        "      for _ in range(sample_number):\n",
        "        # print(model_ensemble_time_series[-1].shape, t)\n",
        "        r = torch.tensor([[random.random()]]).float().to(device)\n",
        "        r = r.unsqueeze(0)\n",
        "        output= model_ensemble(prev, r)\n",
        "        ensemble.append(output.cpu().detach())\n",
        "      return torch.mean(torch.stack(ensemble), axis=0).to(device)\n",
        "    if t%200 == 0: print(t)\n",
        "    model_ensemble_time_series.append(step_function(model_ensemble_time_series[-1], L).to(device))\n",
        "  return  torch.stack(model_ensemble_time_series).squeeze(1).cpu()"
      ],
      "metadata": {
        "id": "sro-fYMfk87u"
      },
      "execution_count": null,
      "outputs": []
    },
    {
      "cell_type": "code",
      "source": [
        "euler_1 = ensemble_sample(1, euler_step, eval_steps, sample_number, model_1)\n",
        "rk4_1 = ensemble_sample(1, rk4_step, eval_steps, sample_number, model_1)"
      ],
      "metadata": {
        "colab": {
          "base_uri": "https://localhost:8080/"
        },
        "id": "YA-YbbdYl9Ro",
        "outputId": "9c562dc4-619c-4c2e-a94b-b71ef90b4ccb"
      },
      "execution_count": null,
      "outputs": [
        {
          "output_type": "stream",
          "name": "stdout",
          "text": [
            "0\n",
            "200\n",
            "400\n",
            "0\n",
            "200\n",
            "400\n"
          ]
        }
      ]
    },
    {
      "cell_type": "code",
      "source": [
        "def compare_error(expected, actual, T, label):\n",
        "  # [print(expected[i].shape, actual[i].shape) for i in T]\n",
        "  error =  [np.mean((expected[t]- actual[t])**2) for t in T]\n",
        "  plt.plot(T,error, label=label)\n",
        "  plt.xlabel(\"time\")\n",
        "  plt.ylabel(\"MSE\")\n",
        "  plt.yscale('log')\n",
        "  plt.ylim((1e-1, 1e3))\n",
        "compare_error(normalized_data[1985], euler_1.detach().numpy(), range(eval_steps), \"euler_step\")\n",
        "compare_error(normalized_data[1985], rk4_1.detach().numpy(), range(eval_steps), \"rk4_step\")\n",
        "plt.title(\"Error\")\n",
        "plt.legend()"
      ],
      "metadata": {
        "colab": {
          "base_uri": "https://localhost:8080/",
          "height": 489
        },
        "id": "mYofNqv8nL4A",
        "outputId": "2edb8220-57ab-469e-a655-cb050d959f33"
      },
      "execution_count": null,
      "outputs": [
        {
          "output_type": "execute_result",
          "data": {
            "text/plain": [
              "<matplotlib.legend.Legend at 0x7fd5c01079d0>"
            ]
          },
          "metadata": {},
          "execution_count": 48
        },
        {
          "output_type": "display_data",
          "data": {
            "text/plain": [
              "<Figure size 640x480 with 1 Axes>"
            ],
            "image/png": "[encoded data removed]"
          },
          "metadata": {}
        }
      ]
    },
    {
      "cell_type": "markdown",
      "source": [
        "# l=2"
      ],
      "metadata": {
        "id": "r9ZuEraznm9k"
      }
    },
    {
      "cell_type": "code",
      "source": [
        "model_2 = train_model(2)"
      ],
      "metadata": {
        "colab": {
          "base_uri": "https://localhost:8080/"
        },
        "id": "qagXaRMWnoi1",
        "outputId": "834c5daf-26d0-451a-9b08-6802336f3478"
      },
      "execution_count": null,
      "outputs": [
        {
          "output_type": "stream",
          "name": "stdout",
          "text": [
            "Epoch 1/20, Average Loss: 0.002558655616626761\n",
            "Epoch 2/20, Average Loss: 0.0020770830695620345\n",
            "Epoch 3/20, Average Loss: 0.0019521997764563772\n",
            "Epoch 4/20, Average Loss: 0.0019109253648850902\n",
            "Epoch 5/20, Average Loss: 0.0018743172942194291\n",
            "Epoch 6/20, Average Loss: 0.0018210003706628187\n",
            "Epoch 7/20, Average Loss: 0.001760565809068901\n",
            "Epoch 8/20, Average Loss: 0.001705683622087101\n",
            "Epoch 9/20, Average Loss: 0.0016592474857097168\n",
            "Epoch 10/20, Average Loss: 0.001614077084942331\n",
            "Epoch 11/20, Average Loss: 0.001571178793057784\n",
            "Epoch 12/20, Average Loss: 0.0015341084911521473\n",
            "Epoch 13/20, Average Loss: 0.0015046329392794263\n",
            "Epoch 14/20, Average Loss: 0.0014784435133581412\n",
            "Epoch 15/20, Average Loss: 0.001451145218942252\n",
            "Epoch 16/20, Average Loss: 0.0014296641473832787\n",
            "Epoch 17/20, Average Loss: 0.0014026141717509634\n",
            "Epoch 18/20, Average Loss: 0.001376435172752704\n",
            "Epoch 19/20, Average Loss: 0.0013578460841621083\n",
            "Epoch 20/20, Average Loss: 0.001350444694359247\n"
          ]
        }
      ]
    },
    {
      "cell_type": "markdown",
      "source": [
        "## Evaluation"
      ],
      "metadata": {
        "id": "lm7vHMEVqCcp"
      }
    },
    {
      "cell_type": "code",
      "source": [
        "euler_2 = ensemble_sample(2, euler_step, eval_steps, sample_number, model_2)\n",
        "rk4_2 = ensemble_sample(2, rk4_step, eval_steps, sample_number, model_2)"
      ],
      "metadata": {
        "colab": {
          "base_uri": "https://localhost:8080/"
        },
        "id": "-Jwq-kYtoWvx",
        "outputId": "2b517116-e02c-4a2e-9f41-dc5604a161e9"
      },
      "execution_count": null,
      "outputs": [
        {
          "output_type": "stream",
          "name": "stdout",
          "text": [
            "0\n",
            "200\n",
            "400\n",
            "0\n",
            "200\n",
            "400\n"
          ]
        }
      ]
    },
    {
      "cell_type": "code",
      "source": [
        "compare_error(normalized_data[1985], euler_2.detach().numpy(), range(eval_steps), \"euler_step\")\n",
        "compare_error(normalized_data[1985], rk4_2.detach().numpy(), range(eval_steps), \"rk4_step\")\n",
        "plt.title(\"Error, l=2\")\n",
        "plt.legend()"
      ],
      "metadata": {
        "colab": {
          "base_uri": "https://localhost:8080/",
          "height": 489
        },
        "id": "01TPs9gyqO3D",
        "outputId": "6c45165a-7638-4d60-bd87-c0afa63a0300"
      },
      "execution_count": null,
      "outputs": [
        {
          "output_type": "execute_result",
          "data": {
            "text/plain": [
              "<matplotlib.legend.Legend at 0x7fd67035ba10>"
            ]
          },
          "metadata": {},
          "execution_count": 41
        },
        {
          "output_type": "display_data",
          "data": {
            "text/plain": [
              "<Figure size 640x480 with 1 Axes>"
            ],
            "image/png": "[encoded data removed]"
          },
          "metadata": {}
        }
      ]
    },
    {
      "cell_type": "markdown",
      "source": [
        "# l=5"
      ],
      "metadata": {
        "id": "oE6fKT0yqYsJ"
      }
    },
    {
      "cell_type": "code",
      "source": [
        "model_5 = train_model(5)"
      ],
      "metadata": {
        "colab": {
          "base_uri": "https://localhost:8080/"
        },
        "id": "csxMfB63qbvo",
        "outputId": "4fe98d25-0672-40fd-d931-d3c45ad31b3e"
      },
      "execution_count": null,
      "outputs": [
        {
          "output_type": "stream",
          "name": "stdout",
          "text": [
            "Epoch 1/20, Average Loss: 0.002481121144962956\n",
            "Epoch 2/20, Average Loss: 0.001985432498130228\n",
            "Epoch 3/20, Average Loss: 0.0019219411238147535\n",
            "Epoch 4/20, Average Loss: 0.0018846921821809586\n",
            "Epoch 5/20, Average Loss: 0.0018472662666089365\n",
            "Epoch 6/20, Average Loss: 0.0018058008144144367\n",
            "Epoch 7/20, Average Loss: 0.0017662587581834966\n",
            "Epoch 8/20, Average Loss: 0.0017120382064447193\n",
            "Epoch 9/20, Average Loss: 0.0016581386281169425\n",
            "Epoch 10/20, Average Loss: 0.001611531245257271\n",
            "Epoch 11/20, Average Loss: 0.0015722410027642715\n",
            "Epoch 12/20, Average Loss: 0.0015301271047462929\n",
            "Epoch 13/20, Average Loss: 0.001496140505224696\n",
            "Epoch 14/20, Average Loss: 0.0014629955118798622\n",
            "Epoch 15/20, Average Loss: 0.0014338694773786667\n",
            "Epoch 16/20, Average Loss: 0.0014450374600244805\n",
            "Epoch 17/20, Average Loss: 0.0013951057595945544\n",
            "Epoch 18/20, Average Loss: 0.001359731996966911\n",
            "Epoch 19/20, Average Loss: 0.0013378300968992075\n",
            "Epoch 20/20, Average Loss: 0.0013325699646677296\n"
          ]
        }
      ]
    },
    {
      "cell_type": "markdown",
      "source": [
        "## Evaluation"
      ],
      "metadata": {
        "id": "B-byvppYqjrP"
      }
    },
    {
      "cell_type": "code",
      "source": [
        "euler_5 = ensemble_sample(5, euler_step, eval_steps, sample_number, model_5)\n",
        "rk4_5 = ensemble_sample(5, rk4_step, eval_steps, sample_number, model_5)"
      ],
      "metadata": {
        "colab": {
          "base_uri": "https://localhost:8080/"
        },
        "id": "bop_J2nPqh7_",
        "outputId": "21b623b2-66e2-458a-9cc5-0b6b2bffc0d7"
      },
      "execution_count": null,
      "outputs": [
        {
          "output_type": "stream",
          "name": "stdout",
          "text": [
            "0\n",
            "200\n",
            "400\n",
            "0\n",
            "200\n",
            "400\n"
          ]
        }
      ]
    },
    {
      "cell_type": "code",
      "source": [
        "compare_error(normalized_data[1985], euler_5.detach().numpy(), range(eval_steps), \"euler_step\")\n",
        "compare_error(normalized_data[1985], euler_5.detach().numpy(), range(eval_steps), \"rk4_step\")\n",
        "plt.title(\"Error, l=5\")\n",
        "plt.legend()"
      ],
      "metadata": {
        "colab": {
          "base_uri": "https://localhost:8080/",
          "height": 489
        },
        "id": "wMAPPy7bqwjc",
        "outputId": "205614cf-6fbf-47d2-f113-2a66739dfdbe"
      },
      "execution_count": null,
      "outputs": [
        {
          "output_type": "execute_result",
          "data": {
            "text/plain": [
              "<matplotlib.legend.Legend at 0x7fd5c8093a10>"
            ]
          },
          "metadata": {},
          "execution_count": 44
        },
        {
          "output_type": "display_data",
          "data": {
            "text/plain": [
              "<Figure size 640x480 with 1 Axes>"
            ],
            "image/png": "[encoded data removed]"
          },
          "metadata": {}
        }
      ]
    }
  ]
}